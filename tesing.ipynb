{
 "cells": [
  {
   "cell_type": "code",
   "execution_count": 66,
   "metadata": {},
   "outputs": [],
   "source": [
    "import numpy as np\n",
    "import pandas as pd\n",
    "\n",
    "df = pd.read_csv(r\"D:\\Machine_learning\\Projects\\Car_price_Prediction\\Dataset\\new_file.csv\")\n",
    "\n"
   ]
  },
  {
   "cell_type": "code",
   "execution_count": 22,
   "metadata": {},
   "outputs": [
    {
     "data": {
      "text/plain": [
       "price                 0\n",
       "mileage               0\n",
       "engine_type         590\n",
       "transmission          0\n",
       "assembly              0\n",
       "engine_capacity       0\n",
       "body_type          1151\n",
       "age                1444\n",
       "brand                 0\n",
       "model                 0\n",
       "variant               0\n",
       "dtype: int64"
      ]
     },
     "execution_count": 22,
     "metadata": {},
     "output_type": "execute_result"
    }
   ],
   "source": [
    "df.isna().sum()"
   ]
  },
  {
   "cell_type": "code",
   "execution_count": 21,
   "metadata": {},
   "outputs": [
    {
     "name": "stdout",
     "output_type": "stream",
     "text": [
      "<class 'pandas.core.frame.DataFrame'>\n",
      "Index: 82451 entries, 0 to 88720\n",
      "Data columns (total 11 columns):\n",
      " #   Column           Non-Null Count  Dtype  \n",
      "---  ------           --------------  -----  \n",
      " 0   price            82451 non-null  object \n",
      " 1   mileage          82451 non-null  object \n",
      " 2   engine_type      81861 non-null  object \n",
      " 3   transmission     82451 non-null  object \n",
      " 4   assembly         82451 non-null  object \n",
      " 5   engine_capacity  82451 non-null  object \n",
      " 6   body_type        81300 non-null  object \n",
      " 7   age              81007 non-null  float64\n",
      " 8   brand            82451 non-null  object \n",
      " 9   model            82451 non-null  object \n",
      " 10  variant          82451 non-null  object \n",
      "dtypes: float64(1), object(10)\n",
      "memory usage: 7.5+ MB\n"
     ]
    }
   ],
   "source": [
    "df.info()\n",
    "# df = df.dropna(subset=['variant'], how='all')\n"
   ]
  },
  {
   "cell_type": "code",
   "execution_count": 24,
   "metadata": {},
   "outputs": [
    {
     "data": {
      "text/plain": [
       "price                 0\n",
       "mileage               0\n",
       "engine_type         590\n",
       "transmission          0\n",
       "assembly              0\n",
       "engine_capacity       0\n",
       "body_type          1151\n",
       "age                1444\n",
       "brand                 0\n",
       "model                 0\n",
       "variant               0\n",
       "dtype: int64"
      ]
     },
     "execution_count": 24,
     "metadata": {},
     "output_type": "execute_result"
    }
   ],
   "source": [
    "df.isna().sum()"
   ]
  },
  {
   "cell_type": "code",
   "execution_count": 42,
   "metadata": {},
   "outputs": [
    {
     "data": {
      "text/html": [
       "<div>\n",
       "<style scoped>\n",
       "    .dataframe tbody tr th:only-of-type {\n",
       "        vertical-align: middle;\n",
       "    }\n",
       "\n",
       "    .dataframe tbody tr th {\n",
       "        vertical-align: top;\n",
       "    }\n",
       "\n",
       "    .dataframe thead th {\n",
       "        text-align: right;\n",
       "    }\n",
       "</style>\n",
       "<table border=\"1\" class=\"dataframe\">\n",
       "  <thead>\n",
       "    <tr style=\"text-align: right;\">\n",
       "      <th></th>\n",
       "      <th>price</th>\n",
       "      <th>mileage</th>\n",
       "      <th>engine_type</th>\n",
       "      <th>transmission</th>\n",
       "      <th>assembly</th>\n",
       "      <th>engine_capacity</th>\n",
       "      <th>body_type</th>\n",
       "      <th>age</th>\n",
       "      <th>brand</th>\n",
       "      <th>model</th>\n",
       "      <th>variant</th>\n",
       "    </tr>\n",
       "  </thead>\n",
       "  <tbody>\n",
       "    <tr>\n",
       "      <th>218</th>\n",
       "      <td>NaN</td>\n",
       "      <td>1 km</td>\n",
       "      <td>Petrol</td>\n",
       "      <td>Automatic</td>\n",
       "      <td>Imported Cars</td>\n",
       "      <td>2500 cc</td>\n",
       "      <td>Sedan</td>\n",
       "      <td>3.0</td>\n",
       "      <td>Hyundai</td>\n",
       "      <td>Sonata</td>\n",
       "      <td>2.5</td>\n",
       "    </tr>\n",
       "    <tr>\n",
       "      <th>282</th>\n",
       "      <td>NaN</td>\n",
       "      <td>90,000 km</td>\n",
       "      <td>Petrol</td>\n",
       "      <td>Automatic</td>\n",
       "      <td>Imported</td>\n",
       "      <td>5000 cc</td>\n",
       "      <td>Double Cabin</td>\n",
       "      <td>7.0</td>\n",
       "      <td>Ford</td>\n",
       "      <td>F</td>\n",
       "      <td>150 Raptor 5.0L</td>\n",
       "    </tr>\n",
       "    <tr>\n",
       "      <th>423</th>\n",
       "      <td>NaN</td>\n",
       "      <td>95,000 km</td>\n",
       "      <td>Petrol</td>\n",
       "      <td>Manual</td>\n",
       "      <td>Imported Cars</td>\n",
       "      <td>1000 cc</td>\n",
       "      <td>Hatchback</td>\n",
       "      <td>22.0</td>\n",
       "      <td>Suzuki</td>\n",
       "      <td>Cultus</td>\n",
       "      <td>VXR</td>\n",
       "    </tr>\n",
       "    <tr>\n",
       "      <th>590</th>\n",
       "      <td>NaN</td>\n",
       "      <td>10 km</td>\n",
       "      <td>Diesel</td>\n",
       "      <td>Automatic</td>\n",
       "      <td>Imported Cars</td>\n",
       "      <td>2800 cc</td>\n",
       "      <td>Pick Up</td>\n",
       "      <td>3.0</td>\n",
       "      <td>Toyota</td>\n",
       "      <td>Hilux</td>\n",
       "      <td>Revo Rocco</td>\n",
       "    </tr>\n",
       "    <tr>\n",
       "      <th>810</th>\n",
       "      <td>NaN</td>\n",
       "      <td>12,000 km</td>\n",
       "      <td>Petrol</td>\n",
       "      <td>Automatic</td>\n",
       "      <td>Imported Cars</td>\n",
       "      <td>2000 cc</td>\n",
       "      <td>Sedan</td>\n",
       "      <td>3.0</td>\n",
       "      <td>Hyundai</td>\n",
       "      <td>Elantra</td>\n",
       "      <td>GLS</td>\n",
       "    </tr>\n",
       "    <tr>\n",
       "      <th>...</th>\n",
       "      <td>...</td>\n",
       "      <td>...</td>\n",
       "      <td>...</td>\n",
       "      <td>...</td>\n",
       "      <td>...</td>\n",
       "      <td>...</td>\n",
       "      <td>...</td>\n",
       "      <td>...</td>\n",
       "      <td>...</td>\n",
       "      <td>...</td>\n",
       "      <td>...</td>\n",
       "    </tr>\n",
       "    <tr>\n",
       "      <th>88159</th>\n",
       "      <td>NaN</td>\n",
       "      <td>119,000 km</td>\n",
       "      <td>Petrol</td>\n",
       "      <td>Automatic</td>\n",
       "      <td>Imported</td>\n",
       "      <td>4700 cc</td>\n",
       "      <td>SUV</td>\n",
       "      <td>21.0</td>\n",
       "      <td>Toyota</td>\n",
       "      <td>Land</td>\n",
       "      <td>Cruiser Cygnus</td>\n",
       "    </tr>\n",
       "    <tr>\n",
       "      <th>88163</th>\n",
       "      <td>NaN</td>\n",
       "      <td>51,000 km</td>\n",
       "      <td>Petrol</td>\n",
       "      <td>Automatic</td>\n",
       "      <td>Imported Cars</td>\n",
       "      <td>2700 cc</td>\n",
       "      <td>SUV</td>\n",
       "      <td>10.0</td>\n",
       "      <td>Toyota</td>\n",
       "      <td>Fortuner</td>\n",
       "      <td>2.7 VVTi</td>\n",
       "    </tr>\n",
       "    <tr>\n",
       "      <th>88166</th>\n",
       "      <td>NaN</td>\n",
       "      <td>71,000 km</td>\n",
       "      <td>Petrol</td>\n",
       "      <td>Automatic</td>\n",
       "      <td>Imported Cars</td>\n",
       "      <td>1000 cc</td>\n",
       "      <td>Hatchback</td>\n",
       "      <td>7.0</td>\n",
       "      <td>Toyota</td>\n",
       "      <td>Vitz</td>\n",
       "      <td>F 1.0</td>\n",
       "    </tr>\n",
       "    <tr>\n",
       "      <th>88168</th>\n",
       "      <td>NaN</td>\n",
       "      <td>14,000 km</td>\n",
       "      <td>Petrol</td>\n",
       "      <td>Automatic</td>\n",
       "      <td>Imported</td>\n",
       "      <td>660 cc</td>\n",
       "      <td>Hatchback</td>\n",
       "      <td>5.0</td>\n",
       "      <td>Daihatsu</td>\n",
       "      <td>Mira</td>\n",
       "      <td>B</td>\n",
       "    </tr>\n",
       "    <tr>\n",
       "      <th>88685</th>\n",
       "      <td>NaN</td>\n",
       "      <td>5 km</td>\n",
       "      <td>Petrol</td>\n",
       "      <td>Automatic</td>\n",
       "      <td>Imported Cars</td>\n",
       "      <td>1500 cc</td>\n",
       "      <td>Sedan</td>\n",
       "      <td>3.0</td>\n",
       "      <td>Changan</td>\n",
       "      <td>Alsvin</td>\n",
       "      <td>1.5L DCT Lumiere</td>\n",
       "    </tr>\n",
       "  </tbody>\n",
       "</table>\n",
       "<p>1392 rows × 11 columns</p>\n",
       "</div>"
      ],
      "text/plain": [
       "      price     mileage engine_type transmission       assembly  \\\n",
       "218     NaN        1 km      Petrol    Automatic  Imported Cars   \n",
       "282     NaN   90,000 km      Petrol    Automatic       Imported   \n",
       "423     NaN   95,000 km      Petrol       Manual  Imported Cars   \n",
       "590     NaN       10 km      Diesel    Automatic  Imported Cars   \n",
       "810     NaN   12,000 km      Petrol    Automatic  Imported Cars   \n",
       "...     ...         ...         ...          ...            ...   \n",
       "88159   NaN  119,000 km      Petrol    Automatic       Imported   \n",
       "88163   NaN   51,000 km      Petrol    Automatic  Imported Cars   \n",
       "88166   NaN   71,000 km      Petrol    Automatic  Imported Cars   \n",
       "88168   NaN   14,000 km      Petrol    Automatic       Imported   \n",
       "88685   NaN        5 km      Petrol    Automatic  Imported Cars   \n",
       "\n",
       "      engine_capacity     body_type   age     brand     model  \\\n",
       "218           2500 cc         Sedan   3.0   Hyundai    Sonata   \n",
       "282           5000 cc  Double Cabin   7.0      Ford         F   \n",
       "423           1000 cc     Hatchback  22.0    Suzuki    Cultus   \n",
       "590           2800 cc       Pick Up   3.0    Toyota     Hilux   \n",
       "810           2000 cc         Sedan   3.0   Hyundai   Elantra   \n",
       "...               ...           ...   ...       ...       ...   \n",
       "88159         4700 cc           SUV  21.0    Toyota      Land   \n",
       "88163         2700 cc           SUV  10.0    Toyota  Fortuner   \n",
       "88166         1000 cc     Hatchback   7.0    Toyota      Vitz   \n",
       "88168          660 cc     Hatchback   5.0  Daihatsu      Mira   \n",
       "88685         1500 cc         Sedan   3.0   Changan    Alsvin   \n",
       "\n",
       "                variant  \n",
       "218                 2.5  \n",
       "282     150 Raptor 5.0L  \n",
       "423                 VXR  \n",
       "590          Revo Rocco  \n",
       "810                 GLS  \n",
       "...                 ...  \n",
       "88159    Cruiser Cygnus  \n",
       "88163          2.7 VVTi  \n",
       "88166             F 1.0  \n",
       "88168                 B  \n",
       "88685  1.5L DCT Lumiere  \n",
       "\n",
       "[1392 rows x 11 columns]"
      ]
     },
     "execution_count": 42,
     "metadata": {},
     "output_type": "execute_result"
    }
   ],
   "source": [
    "df[df.price.isnull()]"
   ]
  },
  {
   "cell_type": "code",
   "execution_count": 69,
   "metadata": {},
   "outputs": [
    {
     "data": {
      "text/plain": [
       "price\n",
       "2200000.0     774\n",
       "2100000.0     743\n",
       "1350000.0     742\n",
       "1250000.0     722\n",
       "1850000.0     712\n",
       "             ... \n",
       "7590000.0       1\n",
       "6249000.0       1\n",
       "2837000.0       1\n",
       "4315000.0       1\n",
       "57500000.0      1\n",
       "Name: count, Length: 2204, dtype: int64"
      ]
     },
     "execution_count": 69,
     "metadata": {},
     "output_type": "execute_result"
    }
   ],
   "source": [
    "df.price.value_counts()"
   ]
  },
  {
   "cell_type": "code",
   "execution_count": 64,
   "metadata": {},
   "outputs": [
    {
     "data": {
      "text/plain": [
       "pandas.core.series.Series"
      ]
     },
     "execution_count": 64,
     "metadata": {},
     "output_type": "execute_result"
    }
   ],
   "source": [
    "type(abc)"
   ]
  },
  {
   "cell_type": "code",
   "execution_count": 47,
   "metadata": {},
   "outputs": [],
   "source": [
    "df[\"price\"] = df[\"price\"].str.split()"
   ]
  },
  {
   "cell_type": "code",
   "execution_count": 51,
   "metadata": {},
   "outputs": [],
   "source": [
    "df[\"price\"] = df[\"price\"].apply(lambda x: x[1:] if isinstance(x, list) else x)\n"
   ]
  },
  {
   "cell_type": "code",
   "execution_count": 68,
   "metadata": {},
   "outputs": [],
   "source": [
    "import numpy as np\n",
    "\n",
    "def convert_price(value):\n",
    "    if isinstance(value, str):\n",
    "        value = value.replace(\"PKR\", \"\").strip().lower()  # Remove \"PKR\" and spaces\n",
    "        \n",
    "        if \"lacs\" in value:\n",
    "            return float(value.replace(\"lacs\", \"\").strip()) * 100000  # Convert lacs to actual value\n",
    "        \n",
    "        elif \"crore\" in value:\n",
    "            return float(value.replace(\"crore\", \"\").strip()) * 10000000  # Convert crore to actual value\n",
    "        \n",
    "        elif \"call for price\" in value:\n",
    "            return np.nan  # Assign NaN to \"call for price\"\n",
    "    \n",
    "    return np.nan  # Default NaN for unexpected values\n",
    "\n",
    "# Apply function to price column\n",
    "df[\"price\"] = df[\"price\"].apply(convert_price)\n"
   ]
  },
  {
   "cell_type": "code",
   "execution_count": 75,
   "metadata": {},
   "outputs": [
    {
     "data": {
      "text/plain": [
       "0"
      ]
     },
     "execution_count": 75,
     "metadata": {},
     "output_type": "execute_result"
    }
   ],
   "source": [
    "df.mileage.isna().sum()"
   ]
  },
  {
   "cell_type": "code",
   "execution_count": 72,
   "metadata": {},
   "outputs": [],
   "source": [
    "# Convert mileage to Numeric\n",
    "\n",
    "df[\"mileage\"] = df[\"mileage\"].str.replace(\",\", \"\", regex=True)  # Remove commas\n",
    "df[\"mileage\"] = df[\"mileage\"].str.replace(\" km\", \"\", regex=True)  # Remove \" km\"\n",
    "df[\"mileage\"] = pd.to_numeric(df[\"mileage\"], errors=\"coerce\")  # Convert to numeric\n"
   ]
  },
  {
   "cell_type": "code",
   "execution_count": 77,
   "metadata": {},
   "outputs": [
    {
     "data": {
      "text/plain": [
       "transmission\n",
       "Automatic    46391\n",
       "Manual       42330\n",
       "Name: count, dtype: int64"
      ]
     },
     "execution_count": 77,
     "metadata": {},
     "output_type": "execute_result"
    }
   ],
   "source": [
    "df.transmission.value_counts()"
   ]
  },
  {
   "cell_type": "code",
   "execution_count": 78,
   "metadata": {},
   "outputs": [],
   "source": [
    "df[\"transmission\"] = df[\"transmission\"].map({\"Automatic\": 1, \"Manual\": 0})\n"
   ]
  },
  {
   "cell_type": "code",
   "execution_count": 81,
   "metadata": {},
   "outputs": [],
   "source": [
    "df.assembly.value_counts()\n",
    "df.drop(columns=[\"assembly\"], inplace=True)"
   ]
  },
  {
   "cell_type": "code",
   "execution_count": 85,
   "metadata": {},
   "outputs": [],
   "source": [
    "df[\"engine_capacity\"] = df[\"engine_capacity\"].str.replace(\" cc\", \"\", regex=True)\n"
   ]
  },
  {
   "cell_type": "code",
   "execution_count": 87,
   "metadata": {},
   "outputs": [],
   "source": [
    "df[\"engine_capacity\"] = df[\"engine_capacity\"].str.replace(\" kWh\", \"\", regex=True).astype(float)\n"
   ]
  },
  {
   "cell_type": "code",
   "execution_count": 96,
   "metadata": {},
   "outputs": [],
   "source": [
    "from sklearn.preprocessing import LabelEncoder\n",
    "\n",
    "label_encoder = LabelEncoder()\n",
    "df[\"brand\"] = label_encoder.fit_transform(df[\"brand\"])\n",
    "df[\"model\"] = label_encoder.fit_transform(df[\"model\"])\n"
   ]
  },
  {
   "cell_type": "code",
   "execution_count": 98,
   "metadata": {},
   "outputs": [],
   "source": [
    "df.drop(columns=[\"brand_encoded\", \"model_encoded\"], inplace=True)"
   ]
  },
  {
   "cell_type": "code",
   "execution_count": 103,
   "metadata": {},
   "outputs": [],
   "source": [
    "df[\"variant\"] = label_encoder.fit_transform(df[\"variant\"])"
   ]
  },
  {
   "cell_type": "code",
   "execution_count": 106,
   "metadata": {},
   "outputs": [],
   "source": [
    "df[\"engine_type\"] = label_encoder.fit_transform(df[\"variant\"])\n",
    "df[\"body_type\"] = label_encoder.fit_transform(df[\"variant\"])\n",
    "df[\"age\"] = label_encoder.fit_transform(df[\"variant\"])"
   ]
  },
  {
   "cell_type": "code",
   "execution_count": 104,
   "metadata": {},
   "outputs": [
    {
     "data": {
      "text/plain": [
       "variant\n",
       "1464    6270\n",
       "1270    5239\n",
       "742     2636\n",
       "954     1956\n",
       "1256    1935\n",
       "        ... \n",
       "538        1\n",
       "468        1\n",
       "434        1\n",
       "192        1\n",
       "1419       1\n",
       "Name: count, Length: 1465, dtype: int64"
      ]
     },
     "execution_count": 104,
     "metadata": {},
     "output_type": "execute_result"
    }
   ],
   "source": [
    "\n",
    "df.variant.value_counts()"
   ]
  },
  {
   "cell_type": "code",
   "execution_count": 107,
   "metadata": {},
   "outputs": [
    {
     "name": "stdout",
     "output_type": "stream",
     "text": [
      "<class 'pandas.core.frame.DataFrame'>\n",
      "RangeIndex: 88721 entries, 0 to 88720\n",
      "Data columns (total 10 columns):\n",
      " #   Column           Non-Null Count  Dtype  \n",
      "---  ------           --------------  -----  \n",
      " 0   price            87327 non-null  float64\n",
      " 1   mileage          88721 non-null  int64  \n",
      " 2   engine_type      88721 non-null  int64  \n",
      " 3   transmission     88721 non-null  int64  \n",
      " 4   engine_capacity  88721 non-null  float64\n",
      " 5   body_type        88721 non-null  int64  \n",
      " 6   age              88721 non-null  int64  \n",
      " 7   brand            88721 non-null  int32  \n",
      " 8   model            88721 non-null  int32  \n",
      " 9   variant          88721 non-null  int32  \n",
      "dtypes: float64(2), int32(3), int64(5)\n",
      "memory usage: 5.8 MB\n"
     ]
    }
   ],
   "source": [
    "df.info()"
   ]
  },
  {
   "cell_type": "code",
   "execution_count": null,
   "metadata": {},
   "outputs": [],
   "source": [
    "from sklearn.ensemble import RandomForestRegressor\n",
    "from sklearn.ensemble import RandomForestClassifier\n",
    "from sklearn.model_selection import train_test_split"
   ]
  },
  {
   "cell_type": "code",
   "execution_count": 120,
   "metadata": {},
   "outputs": [
    {
     "data": {
      "text/plain": [
       "price\n",
       "2.200000e+06    774\n",
       "2.100000e+06    743\n",
       "1.350000e+06    742\n",
       "1.250000e+06    722\n",
       "1.850000e+06    712\n",
       "               ... \n",
       "1.549000e+06      1\n",
       "7.980000e+05      1\n",
       "5.157000e+06      1\n",
       "1.132000e+06      1\n",
       "3.794363e+06      1\n",
       "Name: count, Length: 3415, dtype: int64"
      ]
     },
     "execution_count": 120,
     "metadata": {},
     "output_type": "execute_result"
    }
   ],
   "source": [
    "df.price.value_counts()"
   ]
  },
  {
   "cell_type": "code",
   "execution_count": 119,
   "metadata": {},
   "outputs": [
    {
     "data": {
      "text/plain": [
       "price              0\n",
       "mileage            0\n",
       "engine_type        0\n",
       "transmission       0\n",
       "engine_capacity    0\n",
       "body_type          0\n",
       "age                0\n",
       "brand              0\n",
       "model              0\n",
       "variant            0\n",
       "dtype: int64"
      ]
     },
     "execution_count": 119,
     "metadata": {},
     "output_type": "execute_result"
    }
   ],
   "source": [
    "df.isna().sum()"
   ]
  },
  {
   "cell_type": "code",
   "execution_count": 118,
   "metadata": {},
   "outputs": [],
   "source": [
    "from sklearn.ensemble import RandomForestRegressor\n",
    "\n",
    "def impute_categorical_values(df, target_column):\n",
    "    df_copy = df.copy()\n",
    "\n",
    "    # Separate known (non-null) and unknown (null) values\n",
    "    known = df_copy[df_copy[target_column].notnull()]\n",
    "    unknown = df_copy[df_copy[target_column].isnull()]\n",
    "\n",
    "    if unknown.empty:\n",
    "        return df  # No missing values to impute\n",
    "\n",
    "    # Define X (features) and y (target)\n",
    "    X = known.drop(columns=[target_column])\n",
    "    y = known[target_column]\n",
    "\n",
    "    # Train the RandomForestClassifier\n",
    "    model = RandomForestRegressor(n_estimators=100, random_state=42)\n",
    "    model.fit(X, y)\n",
    "\n",
    "    # Predict missing values\n",
    "    predictions = model.predict(unknown.drop(columns=[target_column]))\n",
    "\n",
    "    # Fill missing values in the original dataset\n",
    "    df.loc[df[target_column].isnull(), target_column] = predictions  \n",
    "\n",
    "    return df\n",
    "\n",
    "# Apply to categorical columns\n",
    "for col in ['price']:  # Adjust based on your dataset\n",
    "    df = impute_categorical_values(df, col)\n"
   ]
  },
  {
   "cell_type": "code",
   "execution_count": 121,
   "metadata": {},
   "outputs": [],
   "source": [
    "df.to_csv(\"encoded_file.csv\", index=False)"
   ]
  },
  {
   "cell_type": "code",
   "execution_count": null,
   "metadata": {},
   "outputs": [],
   "source": []
  }
 ],
 "metadata": {
  "kernelspec": {
   "display_name": "Python 3",
   "language": "python",
   "name": "python3"
  },
  "language_info": {
   "codemirror_mode": {
    "name": "ipython",
    "version": 3
   },
   "file_extension": ".py",
   "mimetype": "text/x-python",
   "name": "python",
   "nbconvert_exporter": "python",
   "pygments_lexer": "ipython3",
   "version": "3.12.2"
  }
 },
 "nbformat": 4,
 "nbformat_minor": 2
}
